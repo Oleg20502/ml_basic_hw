{
  "cells": [
    {
      "cell_type": "markdown",
      "metadata": {
        "id": "fwZKRfXmkOUK"
      },
      "source": [
        "## Lab 2"
      ]
    },
    {
      "cell_type": "markdown",
      "metadata": {
        "id": "lLECjnbmkOUL"
      },
      "source": [
        "### Part 3. Poetry generation\n",
        "\n",
        "Let's try to generate some poetry using RNNs.\n",
        "\n",
        "You have several choices here:\n",
        "\n",
        "* The Shakespeare sonnets, file `sonnets.txt` available in the notebook directory.\n",
        "\n",
        "* Роман в стихах \"Евгений Онегин\" Александра Сергеевича Пушкина. В предобработанном виде доступен по [ссылке](https://github.com/attatrol/data_sources/blob/master/onegin.txt).\n",
        "\n",
        "* Some other text source, if it will be approved by the course staff.\n",
        "\n",
        "Text generation can be designed in several steps:\n",
        "    \n",
        "1. Data loading.\n",
        "2. Dictionary generation.\n",
        "3. Data preprocessing.\n",
        "4. Model (neural network) training.\n",
        "5. Text generation (model evaluation).\n"
      ]
    },
    {
      "cell_type": "code",
      "execution_count": 1,
      "metadata": {
        "id": "MFi24K50kOUL"
      },
      "outputs": [],
      "source": [
        "import string\n",
        "import os"
      ]
    },
    {
      "cell_type": "markdown",
      "metadata": {
        "id": "gT86N2P7kOUM"
      },
      "source": [
        "### Data loading: Shakespeare"
      ]
    },
    {
      "cell_type": "markdown",
      "metadata": {
        "id": "HrcfFAkEkOUM"
      },
      "source": [
        "Shakespeare sonnets are awailable at this [link](http://www.gutenberg.org/ebooks/1041?msg=welcome_stranger). In addition, they are stored in the same directory as this notebook (`sonnetes.txt`). Simple preprocessing is already done for you in the next cell: all technical info is dropped."
      ]
    },
    {
      "cell_type": "code",
      "execution_count": null,
      "metadata": {
        "collapsed": true,
        "id": "PF3oIc01kOUM"
      },
      "outputs": [],
      "source": [
        "if not os.path.exists('sonnets.txt'):\n",
        "    !wget https://raw.githubusercontent.com/girafe-ai/ml-course/22f_basic/homeworks_basic/lab02_deep_learning/sonnets.txt\n",
        "\n",
        "with open('sonnets.txt', 'r') as iofile:\n",
        "    text = iofile.readlines()\n",
        "\n",
        "TEXT_START = 45\n",
        "TEXT_END = -368\n",
        "text = text[TEXT_START : TEXT_END]\n",
        "assert len(text) == 2616"
      ]
    },
    {
      "cell_type": "markdown",
      "metadata": {
        "id": "kMqldelMkOUM"
      },
      "source": [
        "In opposite to the in-class practice, this time we want to predict complex text. Let's reduce the complexity of the task and lowercase all the symbols.\n",
        "\n",
        "Now variable `text` is a list of strings. Join all the strings into one and lowercase it."
      ]
    },
    {
      "cell_type": "code",
      "execution_count": null,
      "metadata": {
        "id": "nK6zVMhPkOUN"
      },
      "outputs": [],
      "source": [
        "# Join all the strings into one and lowercase it\n",
        "# Put result into variable text.\n",
        "\n",
        "# Your great code here\n",
        "\n",
        "assert len(text) == 100225, 'Are you sure you have concatenated all the strings?'\n",
        "assert not any([x in set(text) for x in string.ascii_uppercase]), 'Uppercase letters are present'\n",
        "print('OK!')"
      ]
    },
    {
      "cell_type": "markdown",
      "metadata": {
        "id": "x3JY8scgkOUN"
      },
      "source": [
        "### Data loading: \"Евгений Онегин\"\n"
      ]
    },
    {
      "cell_type": "code",
      "execution_count": 2,
      "metadata": {
        "colab": {
          "base_uri": "https://localhost:8080/"
        },
        "id": "fJVG9KbFkOUN",
        "outputId": "d6c9740f-79b4-45b5-d2c1-08b35c658966"
      },
      "outputs": [
        {
          "output_type": "stream",
          "name": "stdout",
          "text": [
            "--2023-12-17 21:02:35--  https://raw.githubusercontent.com/attatrol/data_sources/master/onegin.txt\n",
            "Resolving raw.githubusercontent.com (raw.githubusercontent.com)... 185.199.108.133, 185.199.109.133, 185.199.110.133, ...\n",
            "Connecting to raw.githubusercontent.com (raw.githubusercontent.com)|185.199.108.133|:443... connected.\n",
            "HTTP request sent, awaiting response... 200 OK\n",
            "Length: 262521 (256K) [text/plain]\n",
            "Saving to: ‘onegin.txt’\n",
            "\n",
            "onegin.txt          100%[===================>] 256.37K  --.-KB/s    in 0.004s  \n",
            "\n",
            "2023-12-17 21:02:36 (57.6 MB/s) - ‘onegin.txt’ saved [262521/262521]\n",
            "\n"
          ]
        }
      ],
      "source": [
        "!wget https://raw.githubusercontent.com/attatrol/data_sources/master/onegin.txt\n",
        "\n",
        "with open('onegin.txt', 'r') as iofile:\n",
        "    text = iofile.readlines()\n",
        "\n",
        "text = [x.replace('\\t\\t', '') for x in text]"
      ]
    },
    {
      "cell_type": "markdown",
      "metadata": {
        "id": "bK_ZNww9kOUN"
      },
      "source": [
        "In opposite to the in-class practice, this time we want to predict complex text. Let's reduce the complexity of the task and lowercase all the symbols.\n",
        "\n",
        "Now variable `text` is a list of strings. Join all the strings into one and lowercase it."
      ]
    },
    {
      "cell_type": "code",
      "source": [
        "from random import sample\n",
        "import numpy as np\n",
        "import torch, torch.nn as nn\n",
        "import torch.nn.functional as F\n",
        "\n",
        "from IPython.display import clear_output\n",
        "\n",
        "import matplotlib.pyplot as plt\n",
        "%matplotlib inline"
      ],
      "metadata": {
        "id": "V0NY8G1VlZgn"
      },
      "execution_count": 3,
      "outputs": []
    },
    {
      "cell_type": "code",
      "execution_count": 5,
      "metadata": {
        "id": "SesTeYNmkOUO"
      },
      "outputs": [],
      "source": [
        "# Join all the strings into one and lowercase it\n",
        "# Put result into variable text.\n",
        "\n",
        "# Your great code here\n",
        "out = ''.join(text).lower()"
      ]
    },
    {
      "cell_type": "markdown",
      "metadata": {
        "id": "AxaROe-DkOUO"
      },
      "source": [
        "Put all the characters, that you've seen in the text, into variable `tokens`."
      ]
    },
    {
      "cell_type": "code",
      "execution_count": 6,
      "metadata": {
        "colab": {
          "base_uri": "https://localhost:8080/"
        },
        "id": "XmBNgaELkOUO",
        "outputId": "45d36ad2-1055-41f7-c636-328039c6de25"
      },
      "outputs": [
        {
          "output_type": "stream",
          "name": "stdout",
          "text": [
            "84\n"
          ]
        }
      ],
      "source": [
        "tokens = sorted(set(out)) + ['<sos>']\n",
        "num_tokens = len(tokens)\n",
        "print(num_tokens)"
      ]
    },
    {
      "cell_type": "markdown",
      "metadata": {
        "id": "X1dM0X81kOUO"
      },
      "source": [
        "Create dictionary `token_to_idx = {<char>: <index>}` and dictionary `idx_to_token = {<index>: <char>}`"
      ]
    },
    {
      "cell_type": "code",
      "execution_count": 7,
      "metadata": {
        "collapsed": true,
        "id": "fBZDWzqAkOUO"
      },
      "outputs": [],
      "source": [
        "token_to_idx = {x: idx for idx, x in enumerate(tokens)}\n",
        "idx_to_token = {idx: x for idx, x in enumerate(tokens)}\n",
        "\n",
        "text_encoded = [token_to_idx[x] for x in out]"
      ]
    },
    {
      "cell_type": "markdown",
      "metadata": {
        "id": "Mex7cTyPkOUO"
      },
      "source": [
        "*Comment: in this task we have only 38 different tokens, so let's use one-hot encoding.*"
      ]
    },
    {
      "cell_type": "markdown",
      "metadata": {
        "id": "d9w3E8hhkOUO"
      },
      "source": [
        "### Building the model"
      ]
    },
    {
      "cell_type": "markdown",
      "metadata": {
        "id": "ug1DaA4VkOUP"
      },
      "source": [
        "Now we want to build and train recurrent neural net which would be able to something similar to Shakespeare's poetry.\n",
        "\n",
        "Let's use vanilla RNN, similar to the one created during the lesson."
      ]
    },
    {
      "cell_type": "code",
      "source": [
        "device = torch.device('cuda') if torch.cuda.is_available() else torch.device('cpu')\n",
        "print('{} device is available'.format(device))"
      ],
      "metadata": {
        "colab": {
          "base_uri": "https://localhost:8080/"
        },
        "id": "GvB36d_3lhlt",
        "outputId": "946d58f5-c7ef-4c3b-d1be-e8dc80f6ca2c"
      },
      "execution_count": 8,
      "outputs": [
        {
          "output_type": "stream",
          "name": "stdout",
          "text": [
            "cuda device is available\n"
          ]
        }
      ]
    },
    {
      "cell_type": "code",
      "source": [
        "batch_size = 256\n",
        "seq_length = 100\n",
        "start_column = np.zeros((batch_size, 1), dtype=int) + token_to_idx['<sos>']\n",
        "\n",
        "def generate_chunk():\n",
        "    global text_encoded, start_column, batch_size, seq_length\n",
        "\n",
        "    start_index = np.random.randint(0, len(text_encoded) - batch_size*seq_length - 1)\n",
        "    data = np.array(text_encoded[start_index:start_index + batch_size*seq_length]).reshape((batch_size, -1))\n",
        "    yield np.hstack((start_column, data))"
      ],
      "metadata": {
        "id": "OC1NQb3smI1-"
      },
      "execution_count": 124,
      "outputs": []
    },
    {
      "cell_type": "code",
      "execution_count": 125,
      "metadata": {
        "collapsed": true,
        "id": "eSV6y7mKkOUP"
      },
      "outputs": [],
      "source": [
        "class RNN(nn.Module):\n",
        "    def __init__(self, num_tokens, embed_size, hidden_size):\n",
        "        super(RNN, self).__init__()\n",
        "\n",
        "        self.hidden_size = hidden_size\n",
        "\n",
        "        self.encoder = nn.Embedding(num_tokens, embed_size)\n",
        "        self.i2h = nn.Linear(embed_size + hidden_size, hidden_size)\n",
        "        self.h2o = nn.Linear(hidden_size, num_tokens)\n",
        "\n",
        "    def forward(self, input, hidden):\n",
        "        input = self.encoder(input)\n",
        "        combined = torch.cat([input, hidden], dim=1)\n",
        "        hidden = self.i2h(combined)\n",
        "        hidden = torch.tanh(hidden)\n",
        "        output = self.h2o(hidden)\n",
        "        return output, hidden\n",
        "\n",
        "    def init_hidden(self, batch_size):\n",
        "        return torch.zeros(batch_size, self.hidden_size, requires_grad=True).to(device)"
      ]
    },
    {
      "cell_type": "code",
      "source": [
        "def rnn_loop(rnn, batch_ix):\n",
        "    batch_size, max_length = batch_ix.size()\n",
        "    hidden = rnn.init_hidden(batch_size)\n",
        "    logprobs = []\n",
        "\n",
        "    for inp in batch_ix.transpose(0, 1):\n",
        "        p, hidden = rnn(inp, hidden)\n",
        "        logprobs.append(F.log_softmax(p, dim=1))\n",
        "\n",
        "    return torch.stack(logprobs, dim=1)"
      ],
      "metadata": {
        "id": "xOQYP2YSmc0j"
      },
      "execution_count": 126,
      "outputs": []
    },
    {
      "cell_type": "code",
      "source": [
        "embed_size=16\n",
        "hidden_size=64\n",
        "\n",
        "loss_func = nn.NLLLoss()\n",
        "char_rnn = RNN(num_tokens, embed_size, hidden_size).to(device)\n",
        "\n",
        "lr = 0.001\n",
        "opt = torch.optim.Adam(char_rnn.parameters(), lr=lr)\n",
        "history = []\n",
        "\n",
        "n_epochs = 10000\n",
        "print_every = 100"
      ],
      "metadata": {
        "id": "JHqi1Zg6mcyp"
      },
      "execution_count": 128,
      "outputs": []
    },
    {
      "cell_type": "code",
      "source": [
        "def train(rnn, loss_func, n_epochs):\n",
        "    for i in range(n_epochs):\n",
        "        batch_ix = torch.tensor(next(generate_chunk()), dtype=torch.int64).to(device)\n",
        "\n",
        "        logp_seq = rnn_loop(rnn, batch_ix)\n",
        "\n",
        "        predictions_logp = logp_seq[:, :-1]\n",
        "        target_tokens = batch_ix[:, 1:]\n",
        "\n",
        "        loss = loss_func(\n",
        "            predictions_logp.reshape(-1, num_tokens),\n",
        "            target_tokens.reshape(-1))\n",
        "        loss.backward()\n",
        "        opt.step()\n",
        "        opt.zero_grad()\n",
        "\n",
        "        history.append(loss.data.cpu().numpy())\n",
        "        if (i+1) % print_every == 0:\n",
        "            clear_output(True)\n",
        "            plt.plot(history, label='loss')\n",
        "            plt.legend()\n",
        "            plt.show()\n",
        "\n"
      ],
      "metadata": {
        "id": "D01k37m-mcwB"
      },
      "execution_count": 129,
      "outputs": []
    },
    {
      "cell_type": "markdown",
      "metadata": {
        "id": "PLU54DMukOUP"
      },
      "source": [
        "Plot the loss function (axis X: number of epochs, axis Y: loss function)."
      ]
    },
    {
      "cell_type": "code",
      "execution_count": 130,
      "metadata": {
        "collapsed": true,
        "colab": {
          "base_uri": "https://localhost:8080/",
          "height": 430
        },
        "id": "6f2lK7pskOUP",
        "outputId": "5f43c8a6-0d44-4532-d32c-34379dd73918"
      },
      "outputs": [
        {
          "output_type": "display_data",
          "data": {
            "text/plain": [
              "<Figure size 640x480 with 1 Axes>"
            ],
            "image/png": "[encoded data removed]"
          },
          "metadata": {}
        }
      ],
      "source": [
        "train(char_rnn, loss_func, n_epochs)"
      ]
    },
    {
      "cell_type": "code",
      "execution_count": 118,
      "metadata": {
        "id": "L81yKWdGkOUP"
      },
      "outputs": [],
      "source": [
        "def generate_sample(char_rnn, seed_phrase=None, max_length=200, temperature=1.0, device=device):\n",
        "    '''\n",
        "    The function generates text given a phrase of length at least SEQ_LENGTH.\n",
        "    :param seed_phrase: prefix characters. The RNN is asked to continue the phrase\n",
        "    :param max_length: maximum output length, including seed_phrase\n",
        "    :param temperature: coefficient for sampling.  higher temperature produces more chaotic outputs,\n",
        "                        smaller temperature converges to the single most likely output\n",
        "    '''\n",
        "\n",
        "    if seed_phrase is not None:\n",
        "        x_sequence = [token_to_idx['<sos>']] + [token_to_idx[token] for token in seed_phrase]\n",
        "    else:\n",
        "        x_sequence = [token_to_idx['<sos>']]\n",
        "\n",
        "    x_sequence = torch.tensor([x_sequence], dtype=torch.int64).to(device)\n",
        "\n",
        "    hidden = char_rnn.init_hidden(1)\n",
        "\n",
        "    #feed the seed phrase, if any\n",
        "    for i in range(len(seed_phrase) - 1):\n",
        "        _, hidden = char_rnn(x_sequence[:, i], hidden)\n",
        "\n",
        "    #start generating\n",
        "    for _ in range(max_length - len(seed_phrase)):\n",
        "        output, hidden, = char_rnn(x_sequence[:, -1], hidden)\n",
        "        p_next = F.softmax(output / temperature, dim=-1).data.cpu().numpy()[0]\n",
        "\n",
        "        # sample next token and push it back into x_sequence\n",
        "        next_ix = np.random.choice(num_tokens, p=p_next)\n",
        "        next_ix = torch.tensor([[next_ix]], dtype=torch.int64).to(device)\n",
        "        x_sequence = torch.cat([x_sequence, next_ix], dim=1)\n",
        "\n",
        "    return ''.join([tokens[ix] for ix in x_sequence.cpu().data.numpy()[0]])"
      ]
    },
    {
      "cell_type": "code",
      "execution_count": 132,
      "metadata": {
        "colab": {
          "base_uri": "https://localhost:8080/"
        },
        "id": "TkVkO27FkOUP",
        "outputId": "d1607394-7994-4743-c95a-3a6499e9093e"
      },
      "outputs": [
        {
          "output_type": "stream",
          "name": "stdout",
          "text": [
            "<sos> мой дядя самых честных правилих не то в сердце сердце под на страньца соседе страсть в сердце страньца страньца не под ней своей восполной старинный в слеза своей верный страсной сердце сонадит на привычкой света\n",
            "под не мой в собрать молодой сонами страсти страсти в толкный следенье\n",
            "с невого,\n",
            "и в сердце страсть не привычкой под не восподной своей под не в душа,\n",
            "в сердце не в порой\n",
            "не страсти порой в своей под надеждал под не мой в сердце сердце привычкой полновь в сердце приведский соседа\n",
            "не ст\n"
          ]
        }
      ],
      "source": [
        "# An example of generated text.\n",
        "print(generate_sample(char_rnn, ' мой дядя самых честных правил', max_length=500, temperature=0.2))"
      ]
    },
    {
      "cell_type": "markdown",
      "metadata": {
        "id": "Q0rscGamkOUP"
      },
      "source": [
        "### More poetic model\n",
        "\n",
        "Let's use LSTM instead of vanilla RNN and compare the results."
      ]
    },
    {
      "cell_type": "code",
      "source": [
        "class LSTM(nn.Module):\n",
        "    def __init__(self, num_tokens, embed_size, hidden_size):\n",
        "        super(LSTM, self).__init__()\n",
        "\n",
        "        self.hidden_size = hidden_size\n",
        "        self.embed_size = embed_size\n",
        "\n",
        "        self.encoder = nn.Embedding(num_tokens, embed_size)\n",
        "        self.lstm = nn.LSTMCell(embed_size, hidden_size)\n",
        "        self.decoder = nn.Linear(hidden_size, num_tokens)\n",
        "\n",
        "    def forward(self, input, hidden):\n",
        "        input = self.encoder(input)\n",
        "        hidden = self.lstm(input, hidden)\n",
        "        output = self.decoder(hidden[0])\n",
        "        return output, hidden\n",
        "\n",
        "    def init_hidden(self, batch_size):\n",
        "        return (torch.zeros(batch_size, self.hidden_size, requires_grad=True).to(device),\n",
        "                torch.zeros(batch_size, self.hidden_size, requires_grad=True).to(device))"
      ],
      "metadata": {
        "id": "tC49alsunwTV"
      },
      "execution_count": 133,
      "outputs": []
    },
    {
      "cell_type": "code",
      "source": [
        "embed_size=16\n",
        "hidden_size=64\n",
        "\n",
        "loss_func = nn.NLLLoss()\n",
        "char_lstm = LSTM(num_tokens, embed_size, hidden_size).to(device)\n",
        "\n",
        "lr = 0.001\n",
        "opt = torch.optim.Adam(char_lstm.parameters(), lr=lr)\n",
        "history = []\n",
        "\n",
        "n_epochs = 10000\n",
        "print_every = 100"
      ],
      "metadata": {
        "id": "aiW7jIFHpnHj"
      },
      "execution_count": 134,
      "outputs": []
    },
    {
      "cell_type": "markdown",
      "metadata": {
        "id": "iiLoeLMbkOUP"
      },
      "source": [
        "Plot the loss function of the number of epochs. Does the final loss become better?"
      ]
    },
    {
      "cell_type": "code",
      "execution_count": 135,
      "metadata": {
        "collapsed": true,
        "colab": {
          "base_uri": "https://localhost:8080/",
          "height": 430
        },
        "id": "cn_Q0-h3kOUP",
        "outputId": "341d52bd-4f78-46e0-842a-c5374a4abe31"
      },
      "outputs": [
        {
          "output_type": "display_data",
          "data": {
            "text/plain": [
              "<Figure size 640x480 with 1 Axes>"
            ],
            "image/png": "[encoded data removed]"
          },
          "metadata": {}
        }
      ],
      "source": [
        "train(char_lstm, loss_func, n_epochs)"
      ]
    },
    {
      "cell_type": "markdown",
      "metadata": {
        "id": "eIkjoLRBkOUQ"
      },
      "source": [
        "Generate text using the trained net with different `temperature` parameter: `[0.1, 0.2, 0.5, 1.0, 2.0]`.\n",
        "\n",
        "Evaluate the results visually, try to interpret them."
      ]
    },
    {
      "cell_type": "code",
      "execution_count": 136,
      "metadata": {
        "collapsed": true,
        "colab": {
          "base_uri": "https://localhost:8080/"
        },
        "id": "-wB9Z8OGkOUQ",
        "outputId": "658b8ae7-58e8-4983-cfee-7c9af8ec3f99"
      },
      "outputs": [
        {
          "output_type": "stream",
          "name": "stdout",
          "text": [
            "<sos> мой дядя самых честных правилянья,\n",
            "под не полно в сердце старина\n",
            "и в сердце старинный страстей.\n",
            "\n",
            "\n",
            "\n",
            "xxxii\n",
            "\n",
            "когда бережно привычный старин,\n",
            "в так не под не под не старина\n",
            "и в сердце так и полном\n",
            "и в сон молча в сердце так нет.\n",
            "\n",
            "\n",
            "\n",
            "xxxi\n",
            "\n",
            "но в соседе своей ленский,\n",
            "и в не под не под не полно,\n",
            "и все долго в суждений старин,\n",
            "в под не полно приятно поэта\n",
            "послем и в соседей она,\n",
            "и в старинный сердце старина\n",
            "и в соседей он в него нет.\n",
            "\n",
            "\n",
            "\n",
            "xxxii\n",
            "\n",
            "когда бы все под не подала,\n",
            "и в сердце старинный полно,\n",
            "и в \n"
          ]
        }
      ],
      "source": [
        "print(generate_sample(char_lstm, ' мой дядя самых честных правил', max_length=500, temperature=0.1))"
      ]
    },
    {
      "cell_type": "code",
      "source": [
        "print(generate_sample(char_lstm, ' мой дядя самых честных правил', max_length=500, temperature=0.2))"
      ],
      "metadata": {
        "colab": {
          "base_uri": "https://localhost:8080/"
        },
        "id": "A1v-e69Owc1i",
        "outputId": "6e9ba746-57f0-4f72-d4be-f47def9d338a"
      },
      "execution_count": 137,
      "outputs": [
        {
          "output_type": "stream",
          "name": "stdout",
          "text": [
            "<sos> мой дядя самых честных правилянья,\n",
            "и в сумяннный старинный стал,\n",
            "как под не порой слез она след,\n",
            "и старинный страстей не привыл\n",
            "с ней на страсти порой страстей.\n",
            "\n",
            "\n",
            "\n",
            "xxxii\n",
            "\n",
            "на стало в под не полны сон верно\n",
            "не старинным страстей полей\n",
            "под не под не после приважал\n",
            "и страшно молодых страшной\n",
            "последной душа своей день\n",
            "и таня в сон молчали в полны,\n",
            "и всё на страна пред ней нет.\n",
            "\n",
            "\n",
            "\n",
            "xxxi\n",
            "\n",
            "но в сердце старинный страстей.\n",
            "\n",
            "\n",
            "\n",
            "xxxiii\n",
            "\n",
            "привычный старинный красавил\n",
            "с ней не слушал с своей ленский,\n",
            "и в сон и \n"
          ]
        }
      ]
    },
    {
      "cell_type": "code",
      "source": [
        "print(generate_sample(char_lstm, ' мой дядя самых честных правил', max_length=500, temperature=0.5))"
      ],
      "metadata": {
        "colab": {
          "base_uri": "https://localhost:8080/"
        },
        "id": "m0tgPbgSwcq4",
        "outputId": "c75442f9-ab2d-453c-8b41-c006fcc3bc46"
      },
      "execution_count": 138,
      "outputs": [
        {
          "output_type": "stream",
          "name": "stdout",
          "text": [
            "<sos> мой дядя самых честных правиляньем,\n",
            "и не много примо и надменьем\n",
            "и деревесть и не пора,\n",
            "с ольгою про меня взяков,\n",
            "не своей мире так и зная\n",
            "мечтанье модой молкнем,\n",
            "и все досеностью любил;\n",
            "но моя приятный милодой,\n",
            "приемами в том она летой\n",
            "прости довольно уперь.\n",
            "\n",
            "\n",
            "\n",
            "xli\n",
            "\n",
            "и на смезнам жена любил…\n",
            "оня с нале свои теперь\n",
            "тебя скорей за сумянндиго\n",
            "она в очень потом меня,\n",
            "красавиц на старинны ней.\n",
            "\n",
            "\n",
            "\n",
            "\n",
            "xl\n",
            "\n",
            "но том деревне был указать:\n",
            "не мошут забывалось умел\n",
            "когда жива молодой их,\n",
            "за под ней деревне так \n"
          ]
        }
      ]
    },
    {
      "cell_type": "code",
      "source": [
        "print(generate_sample(char_lstm, ' мой дядя самых честных правил', max_length=500, temperature=1.0))"
      ],
      "metadata": {
        "colab": {
          "base_uri": "https://localhost:8080/"
        },
        "id": "qEfi2KF7wcg4",
        "outputId": "e4927307-817a-41ff-e700-7ba26d19dbd3"
      },
      "execution_count": 139,
      "outputs": [
        {
          "output_type": "stream",
          "name": "stdout",
          "text": [
            "<sos> мой дядя самых честных правиляньем,\n",
            "кумяк, и том, тоснядера глядь,\n",
            "кумить стмери, жарово мном;\n",
            "и клечам разов раблены,\n",
            "я следка, хоть я вобезданы:\n",
            "девят любя драма нет верки,\n",
            "и летется день оглоноко\n",
            "на звак сколько между добра.\n",
            "к найной денина льединули,\n",
            "правы в поручкий изменовенье,\n",
            "зимой не спеды бышь свою?\n",
            "с читать подмечною своей\n",
            "на меня в после открылоны!\n",
            "кадит вравья, прежней – n\n",
            "метех пустоли жизни свет.\n",
            "томин вым их рас задмелы ей;\n",
            "два одне! —\n",
            "такой-тыскивых мир свечка,\n",
            "куда\n",
            "доворый дву\n"
          ]
        }
      ]
    },
    {
      "cell_type": "code",
      "source": [
        "print(generate_sample(char_lstm, ' мой дядя самых честных правил', max_length=500, temperature=2.0))"
      ],
      "metadata": {
        "colab": {
          "base_uri": "https://localhost:8080/"
        },
        "id": "pqCDLym_whZY",
        "outputId": "f3cfa6f6-3749-4f79-d61e-c3d29d86c297"
      },
      "execution_count": 140,
      "outputs": [
        {
          "output_type": "stream",
          "name": "stdout",
          "text": [
            "<sos> мой дядя самых честных правили,\n",
            "оброшкил; мрязякой писакой\n",
            "устяетск, всезд;\n",
            "рошая, эты –ур моусац;\n",
            "сбливныс двов. с:ихка, хоски.\n",
            "зды накажел\n",
            "доддогней!) неонала. – дом.\n",
            "sвод мижплинье лукко.\n",
            "и этахылась увом.\n",
            "вляц:, скшузк!\n",
            "и, мир,\n",
            "но тофя\n",
            "длы»e mtyoriчe,.iii?\n",
            "ибдену!. перперуждымодки:.\n",
            "\n",
            "\n",
            "mсюдрезе щяд и играенлюд\n",
            "всёти ей доэа? веждицнценяк;\n",
            "зпцкесв? иле лепяйце тут.\n",
            "спескиграяна режзогородпева,\n",
            "рочию жарк мии силевный кеды!;\n",
            "оче тол па нопекойнный что,\n",
            "чест;\n",
            "сняй?... онни\n",
            "даткий всих реягкие —\n"
          ]
        }
      ]
    },
    {
      "cell_type": "markdown",
      "source": [
        "По графикам лосса во время обучения видно, что LSTM показывает себя чуть лучше, чем обычная RNN.\n",
        "\n",
        "При температурах 0.1, 0.2 в сгенерированных стихах присутвтсует много реальных слов. При этом заметно, что строчки  часто начинаются с одних и тех же слов. При температурах 0.5, 1.0 начала строчек уже более разнообразное. Но уже все больше выдуманных слов, которые однако похожи слова из русского языка. При температуре 2.0 уже почти все слова неправильные, и они все больше похожи на абракадабру. Интересно, что во всех случаях кроме 2.0 в текстах сохраняется ритм."
      ],
      "metadata": {
        "id": "GRLo2JFq_WQY"
      }
    },
    {
      "cell_type": "markdown",
      "metadata": {
        "id": "VGSdkbG8kOUQ"
      },
      "source": [
        "### Saving and loading models"
      ]
    },
    {
      "cell_type": "markdown",
      "metadata": {
        "id": "wbA32_PlkOUQ"
      },
      "source": [
        "Save the model to the disk, then load it and generate text. Examples are available [here](https://pytorch.org/tutorials/beginner/saving_loading_models.html])."
      ]
    },
    {
      "cell_type": "code",
      "execution_count": 141,
      "metadata": {
        "collapsed": true,
        "id": "pbwRPOjVkOUQ"
      },
      "outputs": [],
      "source": [
        "def save_checkpoint(checkpoint_path, model, optimizer):\n",
        "    # state_dict: a Python dictionary object that:\n",
        "    # - for a model, maps each layer to its parameter tensor;\n",
        "    # - for an optimizer, contains info about the optimizer’s states and hyperparameters used.\n",
        "    state = {\n",
        "        'state_dict': model.state_dict(),\n",
        "        'optimizer' : optimizer.state_dict()}\n",
        "    torch.save(state, checkpoint_path)\n",
        "    print('model saved to %s' % checkpoint_path)\n",
        "\n",
        "def load_checkpoint(checkpoint_path, model, optimizer):\n",
        "    state = torch.load(checkpoint_path)\n",
        "    model.load_state_dict(state['state_dict'])\n",
        "    optimizer.load_state_dict(state['optimizer'])\n",
        "    print('model loaded from %s' % checkpoint_path)"
      ]
    },
    {
      "cell_type": "code",
      "source": [
        "save_checkpoint('./lstm.pth', char_lstm, opt)"
      ],
      "metadata": {
        "colab": {
          "base_uri": "https://localhost:8080/"
        },
        "id": "bUlpxTMEvUCB",
        "outputId": "ab6070a9-8b11-4e76-f937-683ca6d5790e"
      },
      "execution_count": 142,
      "outputs": [
        {
          "output_type": "stream",
          "name": "stdout",
          "text": [
            "model saved to ./lstm.pth\n"
          ]
        }
      ]
    },
    {
      "cell_type": "code",
      "source": [
        "loaded_lstm = LSTM(num_tokens, embed_size, hidden_size).to(device)\n",
        "loaded_opt = torch.optim.Adam(loaded_lstm.parameters())\n",
        "load_checkpoint('./lstm.pth', loaded_lstm, loaded_opt)"
      ],
      "metadata": {
        "colab": {
          "base_uri": "https://localhost:8080/"
        },
        "id": "6o1yrzQnveVi",
        "outputId": "b5546cb1-3c3d-4374-a951-39a7c4891653"
      },
      "execution_count": 146,
      "outputs": [
        {
          "output_type": "stream",
          "name": "stdout",
          "text": [
            "model loaded from ./lstm.pth\n"
          ]
        }
      ]
    },
    {
      "cell_type": "code",
      "source": [
        "print(generate_sample(loaded_lstm, ' мой дядя самых честных правил', max_length=500, temperature=0.5))"
      ],
      "metadata": {
        "colab": {
          "base_uri": "https://localhost:8080/"
        },
        "id": "jR2n-XWPv6a4",
        "outputId": "2070494b-72c4-4288-a0ab-e458424e2a2c"
      },
      "execution_count": 147,
      "outputs": [
        {
          "output_type": "stream",
          "name": "stdout",
          "text": [
            "<sos> мой дядя самых честных правилянье льгантей сердца подать,\n",
            "и страшной может не смела\n",
            "и слез молодою сказал,\n",
            "поступит и друг была недостронный,\n",
            "на стало и в сумянний разделей\n",
            "и страна на повесным воли,\n",
            "просмий переводит не годы,\n",
            "и светить с ней не без месте же ли\n",
            "староковился я волилась.\n",
            "в до не принять бродит старинный\n",
            "с собою сем уж он леской,\n",
            "не приятный строгих полле\n",
            "татьяна в семья был предушит,\n",
            "на слышит не о дворов и нет\n",
            "не пролит самом на пора,\n",
            "под слезы подравился вот\n",
            "подетель пред печал\n"
          ]
        }
      ]
    },
    {
      "cell_type": "markdown",
      "metadata": {
        "id": "LlYil24hkOUQ"
      },
      "source": [
        "### References\n",
        "1. <a href='http://karpathy.github.io/2015/05/21/rnn-effectiveness/'> Andrew Karpathy blog post about RNN. </a>\n",
        "There are several examples of genration: Shakespeare texts, Latex formulas, Linux Sourse Code and children names.\n",
        "2. <a href='https://github.com/karpathy/char-rnn'> Repo with char-rnn code </a>\n",
        "3. Cool repo with PyTorch examples: [link](https://github.com/spro/practical-pytorch`)"
      ]
    }
  ],
  "metadata": {
    "anaconda-cloud": {},
    "kernelspec": {
      "display_name": "Python 3",
      "name": "python3"
    },
    "language_info": {
      "codemirror_mode": {
        "name": "ipython",
        "version": 3
      },
      "file_extension": ".py",
      "mimetype": "text/x-python",
      "name": "python",
      "nbconvert_exporter": "python",
      "pygments_lexer": "ipython3",
      "version": "3.7.7"
    },
    "colab": {
      "provenance": [],
      "gpuType": "T4"
    },
    "accelerator": "GPU"
  },
  "nbformat": 4,
  "nbformat_minor": 0
}