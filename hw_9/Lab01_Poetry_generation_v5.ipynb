{
  "cells": [
    {
      "cell_type": "markdown",
      "metadata": {
        "id": "4IcttzSt0wXl"
      },
      "source": [
        "## Домашнее задание №9\n",
        "### Генерация поэзии с помощью нейронных сетей: шаг 1\n",
        "##### Автор: [Радослав Нейчев](https://www.linkedin.com/in/radoslav-neychev/), @neychev\n",
        "\n",
        "Ваша основная задача: научиться генерироват стихи с помощью простой рекуррентной нейронной сети (Vanilla RNN). В качестве корпуса текстов для обучения будет выступать роман в стихах \"Евгений Онегин\" Александра Сергеевича Пушкина."
      ]
    },
    {
      "cell_type": "code",
      "execution_count": null,
      "metadata": {
        "id": "Nt-qwQCR0wXn"
      },
      "outputs": [],
      "source": [
        "# do not change the code in the block below\n",
        "# __________start of block__________\n",
        "import string\n",
        "import os\n",
        "from random import sample\n",
        "\n",
        "import numpy as np\n",
        "import torch, torch.nn as nn\n",
        "import torch.nn.functional as F\n",
        "\n",
        "from IPython.display import clear_output\n",
        "\n",
        "import matplotlib.pyplot as plt\n",
        "%matplotlib inline\n",
        "# __________end of block__________"
      ]
    },
    {
      "cell_type": "code",
      "execution_count": null,
      "metadata": {
        "id": "VfOZTh1M0wXo",
        "outputId": "97b8dae1-c4cf-4765-b535-1a7be3e8e347",
        "colab": {
          "base_uri": "https://localhost:8080/"
        }
      },
      "outputs": [
        {
          "output_type": "stream",
          "name": "stdout",
          "text": [
            "cuda device is available\n"
          ]
        }
      ],
      "source": [
        "# do not change the code in the block below\n",
        "# __________start of block__________\n",
        "device = torch.device('cuda') if torch.cuda.is_available() else torch.device('cpu')\n",
        "print('{} device is available'.format(device))\n",
        "# __________end of block__________"
      ]
    },
    {
      "cell_type": "markdown",
      "metadata": {
        "id": "MPenWOy01Ooa",
        "outputId": "a92e8e33-e009-4bd4-ac12-3b1b5e1cd3f2"
      },
      "source": [
        "#### 1. Загрузка данных."
      ]
    },
    {
      "cell_type": "code",
      "execution_count": null,
      "metadata": {
        "id": "jzKPcG3q0wXp",
        "outputId": "663ccb35-3aa6-460f-85fc-24a37df534bc",
        "colab": {
          "base_uri": "https://localhost:8080/"
        }
      },
      "outputs": [
        {
          "output_type": "stream",
          "name": "stdout",
          "text": [
            "--2023-12-15 14:21:57--  https://raw.githubusercontent.com/neychev/small_DL_repo/master/datasets/onegin.txt\n",
            "Resolving raw.githubusercontent.com (raw.githubusercontent.com)... 185.199.108.133, 185.199.109.133, 185.199.110.133, ...\n",
            "Connecting to raw.githubusercontent.com (raw.githubusercontent.com)|185.199.108.133|:443... connected.\n",
            "HTTP request sent, awaiting response... 200 OK\n",
            "Length: 262521 (256K) [text/plain]\n",
            "Saving to: ‘onegin.txt’\n",
            "\n",
            "onegin.txt          100%[===================>] 256.37K  --.-KB/s    in 0.03s   \n",
            "\n",
            "2023-12-15 14:21:58 (8.00 MB/s) - ‘onegin.txt’ saved [262521/262521]\n",
            "\n"
          ]
        }
      ],
      "source": [
        "# do not change the code in the block below\n",
        "# __________start of block__________\n",
        "!wget https://raw.githubusercontent.com/neychev/small_DL_repo/master/datasets/onegin.txt\n",
        "\n",
        "with open('onegin.txt', 'r') as iofile:\n",
        "    text = iofile.readlines()\n",
        "\n",
        "text = \"\".join([x.replace('\\t\\t', '').lower() for x in text])\n",
        "# __________end of block__________"
      ]
    },
    {
      "cell_type": "code",
      "source": [
        "print(text[:1000])"
      ],
      "metadata": {
        "id": "zuUBNA14NLtw",
        "outputId": "9089bd0f-7562-44a2-8e09-602502cf2a28",
        "colab": {
          "base_uri": "https://localhost:8080/"
        }
      },
      "execution_count": null,
      "outputs": [
        {
          "output_type": "stream",
          "name": "stdout",
          "text": [
            "\n",
            "i\n",
            "\n",
            "«мой дядя самых честных правил,\n",
            "когда не в шутку занемог,\n",
            "он уважать себя заставил\n",
            "и лучше выдумать не мог.\n",
            "его пример другим наука;\n",
            "но, боже мой, какая скука\n",
            "с больным сидеть и день и ночь,\n",
            "не отходя ни шагу прочь!\n",
            "какое низкое коварство\n",
            "полуживого забавлять,\n",
            "ему подушки поправлять,\n",
            "печально подносить лекарство,\n",
            "вздыхать и думать про себя:\n",
            "когда же черт возьмет тебя!»\n",
            "\n",
            "\n",
            "\n",
            "ii\n",
            "\n",
            "так думал молодой повеса,\n",
            "летя в пыли на почтовых,\n",
            "всевышней волею зевеса\n",
            "наследник всех своих родных. —\n",
            "друзья людмилы и руслана!\n",
            "с героем моего романа\n",
            "без предисловий, сей же час\n",
            "позвольте познакомить вас:\n",
            "онегин, добрый мой приятель,\n",
            "родился на брегах невы,\n",
            "где, может быть, родились вы\n",
            "или блистали, мой читатель;\n",
            "там некогда гулял и я:\n",
            "но вреден север для меня\n",
            "\n",
            "\n",
            "iii\n",
            "\n",
            "служив отлично-благородно,\n",
            "долгами жил его отец,\n",
            "давал три бала ежегодно\n",
            "и промотался наконец.\n",
            "судьба евгения хранила:\n",
            "сперва madame за ним ходила,\n",
            "потом monsieur ее сменил;\n",
            "ребенок был резов, но мил.\n",
            "monsieur l’abbe€, француз убогой,\n",
            "чтоб не и\n"
          ]
        }
      ]
    },
    {
      "cell_type": "markdown",
      "metadata": {
        "id": "XQYpmGfR_gJ8"
      },
      "source": [
        "#### 2. Построение словаря и предобработка текста\n",
        "В данном задании требуется построить языковую модель на уровне символов. Приведем весь текст к нижнему регистру и построим словарь из всех символов в доступном корпусе текстов. Также добавим токен `<sos>`."
      ]
    },
    {
      "cell_type": "code",
      "execution_count": null,
      "metadata": {
        "id": "t1gaPpkK0wXp",
        "outputId": "8777b345-421b-4d69-d5a7-3520eee4736d",
        "colab": {
          "base_uri": "https://localhost:8080/"
        }
      },
      "outputs": [
        {
          "output_type": "stream",
          "name": "stdout",
          "text": [
            "Seems fine!\n"
          ]
        }
      ],
      "source": [
        "# do not change the code in the block below\n",
        "# __________start of block__________\n",
        "tokens = sorted(set(text.lower())) + ['<sos>']\n",
        "num_tokens = len(tokens)\n",
        "\n",
        "assert num_tokens == 84, \"Check the tokenization process\"\n",
        "\n",
        "token_to_idx = {x: idx for idx, x in enumerate(tokens)}\n",
        "idx_to_token = {idx: x for idx, x in enumerate(tokens)}\n",
        "\n",
        "assert len(tokens) == len(token_to_idx), \"Mapping should be unique\"\n",
        "\n",
        "print(\"Seems fine!\")\n",
        "\n",
        "\n",
        "text_encoded = [token_to_idx[x] for x in text]\n",
        "# __________end of block__________"
      ]
    },
    {
      "cell_type": "markdown",
      "metadata": {
        "id": "wYetYvee0wXq"
      },
      "source": [
        "__Ваша задача__: обучить классическую рекуррентную нейронную сеть (Vanilla RNN) предсказывать следующий символ на полученном корпусе текстов и сгенерировать последовательность длины 100 для фиксированной начальной фразы.\n",
        "\n",
        "Вы можете воспользоваться кодом с занятие №6 или же обратиться к следующим ссылкам:\n",
        "* Замечательная статья за авторством Andrej Karpathy об использовании RNN: [link](http://karpathy.github.io/2015/05/21/rnn-effectiveness/)\n",
        "* Пример char-rnn от Andrej Karpathy: [github repo](https://github.com/karpathy/char-rnn)\n",
        "* Замечательный пример генерации поэзии Шекспира: [github repo](https://github.com/spro/practical-pytorch/blob/master/char-rnn-generation/char-rnn-generation.ipynb)\n",
        "\n",
        "Данное задание является достаточно творческим. Не страшно, если поначалу оно вызывает затруднения. Последняя ссылка в списке выше может быть особенно полезна в данном случае.\n",
        "\n",
        "Далее для вашего удобства реализована функция, которая генерирует случайный батч размера `batch_size` из строк длиной `seq_length`. Вы можете использовать его при обучении модели."
      ]
    },
    {
      "cell_type": "code",
      "execution_count": null,
      "metadata": {
        "id": "R3lKpdGK0wXq"
      },
      "outputs": [],
      "source": [
        "# do not change the code in the block below\n",
        "# __________start of block__________\n",
        "batch_size = 256\n",
        "seq_length = 100\n",
        "start_column = np.zeros((batch_size, 1), dtype=int) + token_to_idx['<sos>']\n",
        "\n",
        "def generate_chunk():\n",
        "    global text_encoded, start_column, batch_size, seq_length\n",
        "\n",
        "    start_index = np.random.randint(0, len(text_encoded) - batch_size*seq_length - 1)\n",
        "    data = np.array(text_encoded[start_index:start_index + batch_size*seq_length]).reshape((batch_size, -1))\n",
        "    yield np.hstack((start_column, data))\n",
        "# __________end of block__________"
      ]
    },
    {
      "cell_type": "markdown",
      "metadata": {
        "id": "KOMtpLbe0wXq"
      },
      "source": [
        "Пример батча:"
      ]
    },
    {
      "cell_type": "code",
      "execution_count": null,
      "metadata": {
        "id": "x2hp33_60wXr",
        "outputId": "39bc865b-8e08-43af-d8d5-d22f1ba376e2",
        "colab": {
          "base_uri": "https://localhost:8080/"
        }
      },
      "outputs": [
        {
          "output_type": "execute_result",
          "data": {
            "text/plain": [
              "array([[83, 59, 62, ..., 50, 58, 73],\n",
              "       [83, 55, 53, ..., 46, 50, 62],\n",
              "       [83, 50, 49, ..., 56, 53,  1],\n",
              "       ...,\n",
              "       [83, 49, 58, ..., 59, 48,  2],\n",
              "       [83,  0,  0, ..., 58, 50, 49],\n",
              "       [83, 59, 62, ..., 45, 62,  5]])"
            ]
          },
          "metadata": {},
          "execution_count": 7
        }
      ],
      "source": [
        "next(generate_chunk())"
      ]
    },
    {
      "cell_type": "markdown",
      "metadata": {
        "id": "A8rraQ5k0wXr"
      },
      "source": [
        "Далее вам предстоит написать код для обучения модели и генерации текста."
      ]
    },
    {
      "cell_type": "code",
      "execution_count": null,
      "metadata": {
        "id": "uGUzep9i0wXr"
      },
      "outputs": [],
      "source": [
        "class RNN(nn.Module):\n",
        "    def __init__(self, num_tokens, embed_size, hidden_size):\n",
        "        super(RNN, self).__init__()\n",
        "\n",
        "        self.hidden_size = hidden_size\n",
        "\n",
        "        self.encoder = nn.Embedding(num_tokens, embed_size)\n",
        "        self.i2h = nn.Linear(embed_size + hidden_size, hidden_size)\n",
        "        self.h2o = nn.Linear(hidden_size, num_tokens)\n",
        "        self.logsoftmax = nn.LogSoftmax(dim=1)\n",
        "\n",
        "    def forward(self, input, hidden):\n",
        "        input = self.encoder(input)\n",
        "        combined = torch.cat([input, hidden], dim=1)\n",
        "        hidden = self.i2h(combined)\n",
        "        hidden = torch.tanh(hidden)\n",
        "        output = self.h2o(hidden)\n",
        "        output = self.logsoftmax(output)\n",
        "        return output, hidden\n",
        "\n",
        "    def init_hidden(self, batch_size):\n",
        "        return torch.zeros(batch_size, self.hidden_size, requires_grad=True)"
      ]
    },
    {
      "cell_type": "code",
      "source": [
        "def rnn_loop(rnn, batch_ix):\n",
        "    batch_size, max_length = batch_ix.size()\n",
        "    hidden = rnn.init_hidden(batch_size).to(device)\n",
        "    logprobs = []\n",
        "\n",
        "    for inp in batch_ix.transpose(0, 1):\n",
        "        logp, hidden = rnn(inp, hidden)\n",
        "        logprobs.append(logp)\n",
        "\n",
        "    return torch.stack(logprobs, dim=1)"
      ],
      "metadata": {
        "id": "kv1KEK4c2cfm"
      },
      "execution_count": null,
      "outputs": []
    },
    {
      "cell_type": "code",
      "source": [
        "embed_size=20\n",
        "hidden_size=128\n",
        "\n",
        "loss_func = nn.NLLLoss()\n",
        "char_rnn = RNN(num_tokens, embed_size, hidden_size).to(device)\n",
        "\n",
        "lr = 0.001\n",
        "opt = torch.optim.Adam(char_rnn.parameters(), lr=lr)\n",
        "history = []\n",
        "\n",
        "n_epochs = 10000\n",
        "print_every = 100"
      ],
      "metadata": {
        "id": "5ZS5ISbi2cT5"
      },
      "execution_count": null,
      "outputs": []
    },
    {
      "cell_type": "code",
      "source": [
        "def train(rnn, loss_func, n_epochs):\n",
        "    for i in range(n_epochs):\n",
        "        batch_ix = torch.tensor(next(generate_chunk()), dtype=torch.int64).to(device)\n",
        "\n",
        "        logp_seq = rnn_loop(rnn, batch_ix)\n",
        "\n",
        "        predictions_logp = logp_seq[:, :-1]\n",
        "        target_tokens = batch_ix[:, 1:]\n",
        "\n",
        "        loss = loss_func(\n",
        "            predictions_logp.reshape(-1, num_tokens),\n",
        "            target_tokens.reshape(-1))\n",
        "        loss.backward()\n",
        "        opt.step()\n",
        "        opt.zero_grad()\n",
        "\n",
        "        history.append(loss.data.cpu().numpy())\n",
        "        if (i+1) % print_every == 0:\n",
        "            clear_output(True)\n",
        "            plt.plot(history, label='loss')\n",
        "            plt.legend()\n",
        "            plt.show()\n",
        "\n"
      ],
      "metadata": {
        "id": "gfsDQNc190AZ"
      },
      "execution_count": null,
      "outputs": []
    },
    {
      "cell_type": "code",
      "source": [
        "train(char_rnn, loss_func, n_epochs)"
      ],
      "metadata": {
        "id": "OhMPIPQ8CCaY"
      },
      "execution_count": null,
      "outputs": []
    },
    {
      "cell_type": "markdown",
      "metadata": {
        "id": "dg4kV83R0wXr"
      },
      "source": [
        "В качестве иллюстрации ниже доступен график значений функции потерь, построенный в ходе обучения авторской сети (сам код для ее обучения вам и предстоит написать)."
      ]
    },
    {
      "cell_type": "code",
      "execution_count": null,
      "metadata": {
        "id": "d1XpPkDv0wXs"
      },
      "outputs": [],
      "source": []
    },
    {
      "cell_type": "markdown",
      "metadata": {
        "id": "QfE47QTr0wXs"
      },
      "source": [
        "Шаблон функции `generate_sample` также доступен ниже. Вы можете как дозаполнить его, так и написать свою собственную функцию с нуля. Не забывайте, что все примеры в обучающей выборке начинались с токена `<sos>`."
      ]
    },
    {
      "cell_type": "code",
      "execution_count": null,
      "metadata": {
        "id": "5ak1iPZh0wXs"
      },
      "outputs": [],
      "source": [
        "def generate_sample(char_rnn, seed_phrase=None, max_length=200, temperature=1.0, device=device):\n",
        "    '''\n",
        "    The function generates text given a phrase of length at least SEQ_LENGTH.\n",
        "    :param seed_phrase: prefix characters. The RNN is asked to continue the phrase\n",
        "    :param max_length: maximum output length, including seed_phrase\n",
        "    :param temperature: coefficient for sampling.  higher temperature produces more chaotic outputs,\n",
        "                        smaller temperature converges to the single most likely output\n",
        "    '''\n",
        "\n",
        "    if seed_phrase is not None:\n",
        "        x_sequence = [token_to_idx['<sos>']] + [token_to_idx[token] for token in seed_phrase]\n",
        "    else:\n",
        "        x_sequence = [token_to_idx['<sos>']]\n",
        "\n",
        "    x_sequence = torch.tensor([x_sequence], dtype=torch.int64).to(device)\n",
        "\n",
        "    hidden = char_rnn.init_hidden(1).to(device)\n",
        "\n",
        "    #feed the seed phrase, if any\n",
        "    for i in range(len(seed_phrase) - 1):\n",
        "        _, hidden = char_rnn(x_sequence[:, i], hidden)\n",
        "\n",
        "    #start generating\n",
        "    for _ in range(max_length - len(seed_phrase)):\n",
        "        output, hidden, = char_rnn(x_sequence[:, -1], hidden)\n",
        "        p_next = torch.exp(output / temperature, dim=-1).data.cpu().numpy()[0]\n",
        "\n",
        "        # sample next token and push it back into x_sequence\n",
        "        next_ix = np.random.choice(num_tokens, p=p_next)\n",
        "        next_ix = torch.tensor([[next_ix]], dtype=torch.int64).to(device)\n",
        "        x_sequence = torch.cat([x_sequence, next_ix], dim=1)\n",
        "\n",
        "    return ''.join([tokens[ix] for ix in x_sequence.cpu().data.numpy()[0]])"
      ]
    },
    {
      "cell_type": "code",
      "source": [
        "print(generate_sample(char_rnn, ' мой дядя самых честных правил', max_length=250, temperature=0.8))"
      ],
      "metadata": {
        "id": "5oaBRxk_K4Xr"
      },
      "execution_count": null,
      "outputs": []
    },
    {
      "cell_type": "code",
      "source": [
        "print(generate_sample(char_rnn, ' мой дядя самых честных правил', max_length=250, temperature=0.5))"
      ],
      "metadata": {
        "id": "rwYnxko0NfAe",
        "outputId": "53d2f380-1dca-49dd-cecb-fe603b886128",
        "colab": {
          "base_uri": "https://localhost:8080/"
        }
      },
      "execution_count": null,
      "outputs": [
        {
          "output_type": "stream",
          "name": "stdout",
          "text": [
            "<sos> мой дядя самых честных правиляю до глупоком,\n",
            "и в страшно я забово,\n",
            "и сердце нас ничего страстей дом)\n",
            "не вседсе слез воле\n",
            "срод переб часто на полной\n",
            "увяди думал: все на полный\n",
            "и пестательных душою;\n",
            "мне старельной на друга,\n",
            "когда бы восповали мать.\n",
            "\n",
            "\n",
            "\n"
          ]
        }
      ]
    },
    {
      "cell_type": "code",
      "source": [
        "print(generate_sample(char_rnn, ' мой дядя самых честных правил', max_length=250, temperature=0.3))"
      ],
      "metadata": {
        "id": "Evatpn9-NkFt",
        "outputId": "7c1c0b25-3ec2-4af8-f99e-97eb0a1cd4ba",
        "colab": {
          "base_uri": "https://localhost:8080/"
        }
      },
      "execution_count": null,
      "outputs": [
        {
          "output_type": "stream",
          "name": "stdout",
          "text": [
            "<sos> мой дядя самых честных правиляютилскордость,\n",
            "и в то в ольгин оденье,\n",
            "и в души моей даляна,\n",
            "не похот он не полный водой\n",
            "достойный раз рукой,\n",
            "надежды, полно бездор;\n",
            "душа света и в собластвовал\n",
            "страдает свой полемной\n",
            "в окнем обще в нем сердце лет.\n",
            "\n",
            "\n",
            "\n",
            "x\n"
          ]
        }
      ]
    },
    {
      "cell_type": "code",
      "source": [
        "print(generate_sample(char_rnn, ' мой дядя самых честных правил', max_length=250, temperature=0.1))"
      ],
      "metadata": {
        "id": "en3MOECuNnob",
        "outputId": "f4645f22-5a43-4fea-ef4e-6f33922c11c7",
        "colab": {
          "base_uri": "https://localhost:8080/"
        }
      },
      "execution_count": null,
      "outputs": [
        {
          "output_type": "stream",
          "name": "stdout",
          "text": [
            "<sos> мой дядя самых честных правиляю тебя\n",
            "она под неже твоетства,\n",
            "как девический приводит\n",
            "и в то в ольгин одна в ней страстей страсть\n",
            "ее страстей страстью,\n",
            "не все предальным сердце насладел\n",
            "и в том сердце в темно привета\n",
            "он под ней на своей полон.\n",
            "\n",
            "\n",
            "\n",
            "xxx\n"
          ]
        }
      ]
    },
    {
      "cell_type": "code",
      "source": [
        "print(generate_sample(char_rnn, ' мой дядя самых честных правил', max_length=250, temperature=1))"
      ],
      "metadata": {
        "id": "33dqFxUvNrYL",
        "outputId": "a1d87765-5904-4984-bc84-dd99362f2557",
        "colab": {
          "base_uri": "https://localhost:8080/"
        }
      },
      "execution_count": null,
      "outputs": [
        {
          "output_type": "stream",
          "name": "stdout",
          "text": [
            "<sos> мой дядя самых честных правиляенья;\n",
            "да умы безбуждена хначенье;\n",
            "\n",
            "\n",
            "\n",
            "xvii\n",
            "\n",
            "«ну, как усы такор! —\n",
            "будя, к жеркую то ж на страленья,\n",
            "как друг небесных отцемен,\n",
            "благойстал об ней кахляной\n",
            "не обрасим одона\n",
            "все я, тустя торарой\n",
            "онегин с мал благойбокры,\n",
            "он\n"
          ]
        }
      ]
    },
    {
      "cell_type": "markdown",
      "metadata": {
        "id": "PpBpaSq40wXs"
      },
      "source": [
        "Пример текста сгенерированного обученной моделью доступен ниже. Не страшно, что в тексте много несуществующих слов. Используемая модель очень проста: это простая классическая RNN."
      ]
    },
    {
      "cell_type": "code",
      "execution_count": null,
      "metadata": {
        "id": "p0Wu7dly0wXs",
        "outputId": "133f4bae-f0f5-4ab3-91ab-60e677bb92c3",
        "colab": {
          "base_uri": "https://localhost:8080/"
        }
      },
      "outputs": [
        {
          "output_type": "stream",
          "name": "stdout",
          "text": [
            "<sos> мой дядя самых честных правиляюшь годо,\n",
            "своин из другию убил невужает\n",
            "и запели любви домой\n",
            "уерделой, надрась превлелительницке\n",
            "печейно время взоленный,\n",
            "и следе я лево того подруг,\n",
            "такбе смеет обожны, заляла,\n",
            "но обновити читал ваши ли,\n",
            "татьяна рося,\n",
            "не раз рукой, пораким задол\n",
            "приныло на свокло, хояда\n",
            "сквеж певгенить подъемох представить\n",
            "и наконец верила;\n",
            "хоть так уставане велит,\n",
            "как тем очитая друженья,\n",
            "и радонянья сердце славшой,\n",
            "в ней соседу кто мы е.\n",
            "\n",
            "\n",
            "\n",
            "xxxvii\n",
            "\n",
            "его старал задыва:\n",
            "по вас ольг\n"
          ]
        }
      ],
      "source": [
        "print(generate_sample(char_rnn, ' мой дядя самых честных правил', max_length=500, temperature=0.8))"
      ]
    },
    {
      "cell_type": "markdown",
      "metadata": {
        "id": "WbTPxMwO0wXs"
      },
      "source": [
        "### Сдача задания\n",
        "Сгенерируйте десять последовательностей длиной 500, используя строку ' мой дядя самых честных правил'. Температуру для генерации выберите самостоятельно на основании визуального качества генериуремого текста. Не забудьте удалить все технические токены в случае их наличия.\n",
        "\n",
        "Сгенерированную последовательность сохрание в переменную `generated_phrase` и сдайте сгенерированный ниже файл в контест."
      ]
    },
    {
      "cell_type": "code",
      "execution_count": null,
      "metadata": {
        "id": "n6rRNUAv0wXs"
      },
      "outputs": [],
      "source": [
        "seed_phrase = ' мой дядя самых честных правил'"
      ]
    },
    {
      "cell_type": "code",
      "execution_count": null,
      "metadata": {
        "id": "7-PC3VEL0wXs"
      },
      "outputs": [],
      "source": [
        "generated_phrases = [\n",
        "    generate_sample(\n",
        "        char_rnn,\n",
        "        ' мой дядя самых честных правил',\n",
        "        max_length=500,\n",
        "        temperature=0.8\n",
        "    ).replace('<sos>', '')\n",
        "    for _ in range(10)\n",
        "]\n"
      ]
    },
    {
      "cell_type": "code",
      "source": [
        "print(generated_phrases[0])"
      ],
      "metadata": {
        "colab": {
          "base_uri": "https://localhost:8080/"
        },
        "id": "Qd4D760iVr0r",
        "outputId": "873b971a-331f-40a4-d2f2-e0a39ba555cf"
      },
      "execution_count": null,
      "outputs": [
        {
          "output_type": "stream",
          "name": "stdout",
          "text": [
            " мой дядя самых честных правилена\n",
            "всегда ей всповедит мновом,\n",
            "пустой молодой,\n",
            "на вечер старика ромный,\n",
            "не сплива и кажным слез,\n",
            "и прандох посных из окилей\n",
            "мне счуж не рад небут видит замервый порыва;\n",
            "по толковейшины! бысловой,\n",
            "на вотам сей стала доброй\n",
            "слезы приятку отвычной\n",
            "душа страх иль она с подрух;\n",
            "старишке ж не уж байская тень\n",
            "так на мало венерном\n",
            "пред ниму вечер плакала,\n",
            "хоть на него женточет,\n",
            "любил большя всё трика\n",
            "и забыл по волненья;\n",
            "зарецт одохнакой моей.\n",
            "поэт ей не глядит\n",
            "симана полн\n"
          ]
        }
      ]
    },
    {
      "cell_type": "code",
      "execution_count": null,
      "metadata": {
        "id": "i2Wgfu2f0wXt",
        "colab": {
          "base_uri": "https://localhost:8080/"
        },
        "outputId": "7175ec7e-05bd-40b4-9e64-ce73838976cd"
      },
      "outputs": [
        {
          "output_type": "stream",
          "name": "stdout",
          "text": [
            "File saved to `submission_dict.json`\n"
          ]
        }
      ],
      "source": [
        "# do not change the code in the block below\n",
        "# __________start of block__________\n",
        "\n",
        "import json\n",
        "if 'generated_phrases' not in locals():\n",
        "    raise ValueError(\"Please, save generated phrases to `generated_phrases` variable\")\n",
        "\n",
        "for phrase in generated_phrases:\n",
        "\n",
        "    if not isinstance(phrase, str):\n",
        "        raise ValueError(\"The generated phrase should be a string\")\n",
        "\n",
        "    if len(phrase) != 500:\n",
        "        raise ValueError(\"The `generated_phrase` length should be equal to 500\")\n",
        "\n",
        "    assert all([x in set(tokens) for x in set(list(phrase))]), 'Unknown tokens detected, check your submission!'\n",
        "\n",
        "\n",
        "submission_dict = {\n",
        "    'token_to_idx': token_to_idx,\n",
        "    'generated_phrases': generated_phrases\n",
        "}\n",
        "\n",
        "with open('submission_dict.json', 'w') as iofile:\n",
        "    json.dump(submission_dict, iofile)\n",
        "print('File saved to `submission_dict.json`')\n",
        "# __________end of block__________"
      ]
    },
    {
      "cell_type": "markdown",
      "metadata": {
        "id": "JyY7C8gc0wXt"
      },
      "source": [
        "На этом задание завершено. Поздравляем!"
      ]
    },
    {
      "cell_type": "code",
      "source": [
        "class LSTM(nn.Module):\n",
        "    def __init__(self, num_tokens, embed_size, hidden_size):\n",
        "        super(LSTM, self).__init__()\n",
        "\n",
        "        self.hidden_size = hidden_size\n",
        "\n",
        "        self.encoder = nn.Embedding(num_tokens, embed_size)\n",
        "        self.lstm = nn.LSTMCell(embed_size, hidden_size)\n",
        "        self.decoder = nn.Linear(hidden_size, num_tokens)\n",
        "\n",
        "    def forward(self, input, h, c):\n",
        "        input = self.encoder(input)\n",
        "        h, c = self.lstm(input, (h, c))\n",
        "        output = self.decoder(h)\n",
        "        return output, h, c\n",
        "\n",
        "    def init_hidden(self, batch_size):\n",
        "        return torch.zeros(batch_size, self.hidden_size, requires_grad=True)"
      ],
      "metadata": {
        "id": "jB0rudqRWGPc"
      },
      "execution_count": null,
      "outputs": []
    },
    {
      "cell_type": "code",
      "source": [
        "def lstm_loop(rnn, batch_ix):\n",
        "    batch_size, max_length = batch_ix.size()\n",
        "    h = rnn.init_hidden(batch_size).to(device)\n",
        "    c = rnn.init_hidden(batch_size).to(device)\n",
        "    outputs = []\n",
        "\n",
        "    for inp in batch_ix.transpose(0, 1):\n",
        "        output, h, c = rnn(inp, h, c)\n",
        "        outputs.append(output)\n",
        "\n",
        "    return torch.stack(outputs, dim=1)\n",
        "\n",
        "def lstm_train(rnn, loss_func, n_epochs):\n",
        "    for i in range(n_epochs):\n",
        "        batch_ix = torch.tensor(next(generate_chunk()), dtype=torch.int64).to(device)\n",
        "\n",
        "        seq = lstm_loop(rnn, batch_ix)\n",
        "\n",
        "        predictions_seq = seq[:, :-1]\n",
        "        target_tokens = batch_ix[:, 1:]\n",
        "\n",
        "        loss = loss_func(\n",
        "            predictions_seq.reshape(-1, num_tokens),\n",
        "            target_tokens.reshape(-1))\n",
        "        loss.backward()\n",
        "        opt.step()\n",
        "        opt.zero_grad()\n",
        "\n",
        "        history.append(loss.data.cpu().numpy())\n",
        "        if (i+1) % print_every == 0:\n",
        "            clear_output(True)\n",
        "            plt.plot(history, label='loss')\n",
        "            plt.legend()\n",
        "            plt.show()\n",
        "\n"
      ],
      "metadata": {
        "id": "gYF76QOc20yU"
      },
      "execution_count": null,
      "outputs": []
    },
    {
      "cell_type": "code",
      "source": [
        "embed_size=20\n",
        "hidden_size=128\n",
        "\n",
        "loss_func = nn.CrossEntropyLoss()\n",
        "char_lstm = LSTM(num_tokens, embed_size, hidden_size)\n",
        "char_lstm.to(device)\n",
        "\n",
        "lr = 0.001\n",
        "opt = torch.optim.Adam(char_lstm.parameters(), lr=lr)\n",
        "history = []\n",
        "\n",
        "n_epochs = 10000\n",
        "print_every = 100"
      ],
      "metadata": {
        "id": "ea7hfgt0WLLT"
      },
      "execution_count": null,
      "outputs": []
    },
    {
      "cell_type": "code",
      "source": [
        "lstm_train(char_lstm, loss_func, n_epochs)"
      ],
      "metadata": {
        "colab": {
          "base_uri": "https://localhost:8080/",
          "height": 430
        },
        "id": "4NQrPlESb9OB",
        "outputId": "e7e31ec9-e8ba-4230-e9ff-7d71d29238a3"
      },
      "execution_count": null,
      "outputs": [
        {
          "output_type": "display_data",
          "data": {
            "text/plain": [
              "<Figure size 640x480 with 1 Axes>"
            ],
            "image/png": "[encoded data removed]"
          },
          "metadata": {}
        }
      ]
    },
    {
      "cell_type": "code",
      "source": [
        "def lstm_generate_sample(char_rnn, seed_phrase=None, max_length=200, temperature=1.0, device=device):\n",
        "    '''\n",
        "    The function generates text given a phrase of length at least SEQ_LENGTH.\n",
        "    :param seed_phrase: prefix characters. The RNN is asked to continue the phrase\n",
        "    :param max_length: maximum output length, including seed_phrase\n",
        "    :param temperature: coefficient for sampling.  higher temperature produces more chaotic outputs,\n",
        "                        smaller temperature converges to the single most likely output\n",
        "    '''\n",
        "\n",
        "    if seed_phrase is not None:\n",
        "        x_sequence = [token_to_idx['<sos>']] + [token_to_idx[token] for token in seed_phrase]\n",
        "    else:\n",
        "        x_sequence = [token_to_idx['<sos>']]\n",
        "\n",
        "    x_sequence = torch.tensor([x_sequence], dtype=torch.int64).to(device)\n",
        "\n",
        "    h = char_rnn.init_hidden(1).to(device)\n",
        "    c = char_rnn.init_hidden(1).to(device)\n",
        "\n",
        "    #feed the seed phrase, if any\n",
        "    for i in range(len(seed_phrase) - 1):\n",
        "        _, h, c = char_rnn(x_sequence[:, i], h, c)\n",
        "\n",
        "    #start generating\n",
        "    for _ in range(max_length - len(seed_phrase)):\n",
        "        output, h, c = char_rnn(x_sequence[:, -1], h, c)\n",
        "        p_next = F.softmax(output / temperature, dim=-1).data.cpu().numpy()[0]\n",
        "\n",
        "        # sample next token and push it back into x_sequence\n",
        "        next_ix = np.random.choice(num_tokens, p=p_next)\n",
        "        next_ix = torch.tensor([[next_ix]], dtype=torch.int64).to(device)\n",
        "        x_sequence = torch.cat([x_sequence, next_ix], dim=1)\n",
        "\n",
        "    return ''.join([tokens[ix] for ix in x_sequence.cpu().data.numpy()[0]])"
      ],
      "metadata": {
        "id": "xdk4bREkclbE"
      },
      "execution_count": null,
      "outputs": []
    },
    {
      "cell_type": "code",
      "source": [
        "print(lstm_generate_sample(char_lstm, ' мой дядя самых честных правил', max_length=250, temperature=0.8))"
      ],
      "metadata": {
        "colab": {
          "base_uri": "https://localhost:8080/"
        },
        "id": "gRBnYYvu8FSV",
        "outputId": "9dd724d1-d4fc-4fad-d02b-26ce6f00fe50"
      },
      "execution_count": null,
      "outputs": [
        {
          "output_type": "stream",
          "name": "stdout",
          "text": [
            "<sos> мой дядя самых честных правиладкий):\n",
            "он не извета тихо, ть мой\n",
            "в ее рожды, ручей одет\n",
            "поступливий в дохвя разговы,\n",
            "землала на чести покасны,\n",
            "и заперкою мои толком;\n",
            "всё бессуждены посланих.\n",
            "за чудоваю льбом, как утвой\n",
            "тревог и жар нет об,\n",
            "тестих, как\n"
          ]
        }
      ]
    },
    {
      "cell_type": "code",
      "source": [
        "print(lstm_generate_sample(char_lstm, ' мой дядя самых честных правил', max_length=250, temperature=0.2))"
      ],
      "metadata": {
        "colab": {
          "base_uri": "https://localhost:8080/"
        },
        "id": "CU1ErBeE-yMv",
        "outputId": "b85229ec-a516-4722-d975-f382ff06ff1f"
      },
      "execution_count": null,
      "outputs": [
        {
          "output_type": "stream",
          "name": "stdout",
          "text": [
            "<sos> мой дядя самых честных правилядеть\n",
            "меж тем дверь нас не постелелья,\n",
            "и в деревню в постеле свойми\n",
            "и забот и первый призвать.\n",
            "\n",
            "\n",
            "\n",
            "xxxvi\n",
            "\n",
            "вставай: все досуждено отворит,\n",
            "и в коро, с толк в грандисона,\n",
            "что нет ольгу ей нет она\n",
            "два столь был подобно в сво\n"
          ]
        }
      ]
    },
    {
      "cell_type": "code",
      "source": [
        "print(lstm_generate_sample(char_lstm, ' мой дядя самых честных правил', max_length=250, temperature=0.000001))"
      ],
      "metadata": {
        "colab": {
          "base_uri": "https://localhost:8080/"
        },
        "id": "QjTrnPWJ-6gl",
        "outputId": "f7fb8d89-dea5-45eb-f1e0-7bb90d06e361"
      },
      "execution_count": null,
      "outputs": [
        {
          "output_type": "stream",
          "name": "stdout",
          "text": [
            "<sos> мой дядя самых честных правилядеть,\n",
            "порой разговой подвижальной\n",
            "в сем сердце говорил с тобой.\n",
            "приболвилась полон странный,\n",
            "всегда волиненный потре,\n",
            "сей понять в деревня в уноте,\n",
            "и страшно здесь с покою: ночно\n",
            "всё там ленью шевелась,\n",
            "в глуши в страшн\n"
          ]
        }
      ]
    },
    {
      "cell_type": "code",
      "source": [],
      "metadata": {
        "id": "LK7vihglBJX_"
      },
      "execution_count": null,
      "outputs": []
    }
  ],
  "metadata": {
    "anaconda-cloud": {},
    "colab": {
      "provenance": []
    },
    "kernelspec": {
      "display_name": "Python 3",
      "name": "python3"
    },
    "language_info": {
      "name": "python"
    }
  },
  "nbformat": 4,
  "nbformat_minor": 0
}